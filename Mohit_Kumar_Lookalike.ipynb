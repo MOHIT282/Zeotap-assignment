{
 "cells": [
  {
   "cell_type": "code",
   "execution_count": 2,
   "metadata": {},
   "outputs": [],
   "source": [
    "# importing required files\n",
    "import pandas as pd\n",
    "import numpy as np\n",
    "import plotly.express as px\n",
    "import matplotlib.pyplot as plt\n",
    "from sklearn.metrics.pairwise import cosine_similarity\n",
    "from sklearn.preprocessing import StandardScaler"
   ]
  },
  {
   "cell_type": "code",
   "execution_count": 3,
   "metadata": {},
   "outputs": [],
   "source": [
    "# reading csv files\n",
    "transactions = pd.read_csv('Transactions.csv')\n",
    "customers = pd.read_csv('Customers.csv')\n",
    "products = pd.read_csv('Products.csv')"
   ]
  },
  {
   "cell_type": "code",
   "execution_count": 4,
   "metadata": {},
   "outputs": [],
   "source": [
    "# Step 1: Merge the datasets\n",
    "merged_data = pd.merge(transactions, customers, on='CustomerID', how='left')\n",
    "merged_data = pd.merge(merged_data, products, on='ProductID', how='left')\n",
    "\n",
    "# Step 2: Feature Engineering\n",
    "# Add a new column for transaction day of the week\n",
    "merged_data['TransactionDate'] = pd.to_datetime(merged_data['TransactionDate'])\n",
    "merged_data['TransactionDay'] = merged_data['TransactionDate'].dt.day_name()"
   ]
  },
  {
   "cell_type": "code",
   "execution_count": 5,
   "metadata": {},
   "outputs": [],
   "source": [
    "# Feature engineering\n",
    "customer_features = merged_data.groupby('CustomerID').agg(\n",
    "    total_spending=('TotalValue', 'sum'),\n",
    "    avg_transaction_value=('TotalValue', 'mean'),\n",
    "    max_transaction_value=('TotalValue', 'max'),\n",
    "    total_quantity=('Quantity', 'sum'),\n",
    "    num_transactions=('TransactionID', 'count'),\n",
    "    num_categories=('Category', 'nunique'),\n",
    "    most_frequent_category=('Category', lambda x: x.mode()[0] if not x.mode().empty else 'None'),\n",
    "    most_frequent_product=('ProductName', lambda x: x.mode()[0] if not x.mode().empty else 'None'),\n",
    "    weekday_activity=('TransactionDay', lambda x: x.mode()[0] if not x.mode().empty else 'None'),\n",
    "    month_with_max_purchases=('TransactionDate', lambda x: x.dt.month.mode()[0] if not x.empty else 'None')\n",
    ").reset_index()\n"
   ]
  },
  {
   "cell_type": "code",
   "execution_count": 6,
   "metadata": {},
   "outputs": [
    {
     "data": {
      "text/html": [
       "<div>\n",
       "<style scoped>\n",
       "    .dataframe tbody tr th:only-of-type {\n",
       "        vertical-align: middle;\n",
       "    }\n",
       "\n",
       "    .dataframe tbody tr th {\n",
       "        vertical-align: top;\n",
       "    }\n",
       "\n",
       "    .dataframe thead th {\n",
       "        text-align: right;\n",
       "    }\n",
       "</style>\n",
       "<table border=\"1\" class=\"dataframe\">\n",
       "  <thead>\n",
       "    <tr style=\"text-align: right;\">\n",
       "      <th></th>\n",
       "      <th>CustomerID</th>\n",
       "      <th>total_spending</th>\n",
       "      <th>avg_transaction_value</th>\n",
       "      <th>max_transaction_value</th>\n",
       "      <th>total_quantity</th>\n",
       "      <th>num_transactions</th>\n",
       "      <th>num_categories</th>\n",
       "      <th>most_frequent_category</th>\n",
       "      <th>most_frequent_product</th>\n",
       "      <th>weekday_activity</th>\n",
       "      <th>month_with_max_purchases</th>\n",
       "    </tr>\n",
       "  </thead>\n",
       "  <tbody>\n",
       "    <tr>\n",
       "      <th>0</th>\n",
       "      <td>C0001</td>\n",
       "      <td>3354.52</td>\n",
       "      <td>670.904</td>\n",
       "      <td>1300.92</td>\n",
       "      <td>12</td>\n",
       "      <td>5</td>\n",
       "      <td>3</td>\n",
       "      <td>Electronics</td>\n",
       "      <td>ActiveWear Smartwatch</td>\n",
       "      <td>Tuesday</td>\n",
       "      <td>1</td>\n",
       "    </tr>\n",
       "    <tr>\n",
       "      <th>1</th>\n",
       "      <td>C0002</td>\n",
       "      <td>1862.74</td>\n",
       "      <td>465.685</td>\n",
       "      <td>770.74</td>\n",
       "      <td>10</td>\n",
       "      <td>4</td>\n",
       "      <td>2</td>\n",
       "      <td>Clothing</td>\n",
       "      <td>BookWorld Cookware Set</td>\n",
       "      <td>Tuesday</td>\n",
       "      <td>2</td>\n",
       "    </tr>\n",
       "    <tr>\n",
       "      <th>2</th>\n",
       "      <td>C0003</td>\n",
       "      <td>2725.38</td>\n",
       "      <td>681.345</td>\n",
       "      <td>1385.20</td>\n",
       "      <td>14</td>\n",
       "      <td>4</td>\n",
       "      <td>3</td>\n",
       "      <td>Home Decor</td>\n",
       "      <td>ActiveWear Cookware Set</td>\n",
       "      <td>Sunday</td>\n",
       "      <td>6</td>\n",
       "    </tr>\n",
       "    <tr>\n",
       "      <th>3</th>\n",
       "      <td>C0004</td>\n",
       "      <td>5354.88</td>\n",
       "      <td>669.360</td>\n",
       "      <td>1099.76</td>\n",
       "      <td>23</td>\n",
       "      <td>8</td>\n",
       "      <td>3</td>\n",
       "      <td>Books</td>\n",
       "      <td>ActiveWear Cookware Set</td>\n",
       "      <td>Monday</td>\n",
       "      <td>12</td>\n",
       "    </tr>\n",
       "    <tr>\n",
       "      <th>4</th>\n",
       "      <td>C0005</td>\n",
       "      <td>2034.24</td>\n",
       "      <td>678.080</td>\n",
       "      <td>861.18</td>\n",
       "      <td>7</td>\n",
       "      <td>3</td>\n",
       "      <td>2</td>\n",
       "      <td>Electronics</td>\n",
       "      <td>ActiveWear Cookware Set</td>\n",
       "      <td>Friday</td>\n",
       "      <td>3</td>\n",
       "    </tr>\n",
       "  </tbody>\n",
       "</table>\n",
       "</div>"
      ],
      "text/plain": [
       "  CustomerID  total_spending  avg_transaction_value  max_transaction_value  \\\n",
       "0      C0001         3354.52                670.904                1300.92   \n",
       "1      C0002         1862.74                465.685                 770.74   \n",
       "2      C0003         2725.38                681.345                1385.20   \n",
       "3      C0004         5354.88                669.360                1099.76   \n",
       "4      C0005         2034.24                678.080                 861.18   \n",
       "\n",
       "   total_quantity  num_transactions  num_categories most_frequent_category  \\\n",
       "0              12                 5               3            Electronics   \n",
       "1              10                 4               2               Clothing   \n",
       "2              14                 4               3             Home Decor   \n",
       "3              23                 8               3                  Books   \n",
       "4               7                 3               2            Electronics   \n",
       "\n",
       "     most_frequent_product weekday_activity  month_with_max_purchases  \n",
       "0    ActiveWear Smartwatch          Tuesday                         1  \n",
       "1   BookWorld Cookware Set          Tuesday                         2  \n",
       "2  ActiveWear Cookware Set           Sunday                         6  \n",
       "3  ActiveWear Cookware Set           Monday                        12  \n",
       "4  ActiveWear Cookware Set           Friday                         3  "
      ]
     },
     "execution_count": 6,
     "metadata": {},
     "output_type": "execute_result"
    }
   ],
   "source": [
    "customer_features.head()"
   ]
  },
  {
   "cell_type": "code",
   "execution_count": 7,
   "metadata": {},
   "outputs": [],
   "source": [
    "# Select only numerical features for normalization\n",
    "numerical_features = ['total_spending', 'avg_transaction_value', 'max_transaction_value', \n",
    "                      'total_quantity', 'num_transactions', 'num_categories']\n",
    "\n",
    "scaler = StandardScaler()\n",
    "customer_features[numerical_features] = scaler.fit_transform(customer_features[numerical_features])\n"
   ]
  },
  {
   "cell_type": "code",
   "execution_count": 8,
   "metadata": {},
   "outputs": [],
   "source": [
    "# Compute the similarity matrix\n",
    "features_for_similarity = customer_features[numerical_features]  # Use only numerical features\n",
    "similarity_matrix = cosine_similarity(features_for_similarity)"
   ]
  },
  {
   "cell_type": "code",
   "execution_count": 9,
   "metadata": {},
   "outputs": [],
   "source": [
    "# Map Customer IDs to similarity scores\n",
    "customer_ids = customer_features['CustomerID'].values\n",
    "lookalike_map = {}\n",
    "\n",
    "for i, customer_id in enumerate(customer_ids[:20]):  # For the first 20 customers\n",
    "    similarities = similarity_matrix[i]\n",
    "    similar_customers = sorted(\n",
    "        [(customer_ids[j], similarities[j]) for j in range(len(similarities)) if j != i],\n",
    "        key=lambda x: x[1],\n",
    "        reverse=True\n",
    "    )\n",
    "    lookalike_map[customer_id] = similar_customers[:3]  # Top 3 similar customers"
   ]
  },
  {
   "cell_type": "code",
   "execution_count": 10,
   "metadata": {},
   "outputs": [],
   "source": [
    "# Step 4: Create DataFrame of recommendations\n",
    "lookalike_df = pd.DataFrame({\n",
    "    'CustomerID': list(lookalike_map.keys()),\n",
    "    'Lookalikes': [str(lookalike_map[cid]) for cid in lookalike_map]\n",
    "})"
   ]
  },
  {
   "cell_type": "code",
   "execution_count": 11,
   "metadata": {},
   "outputs": [
    {
     "name": "stdout",
     "output_type": "stream",
     "text": [
      "Lookalike.csv created successfully!\n"
     ]
    }
   ],
   "source": [
    "# Step 5: Save to Lookalike.csv\n",
    "lookalike_df.to_csv(\"Mohit_Kumar_Lookalike.csv\", index=False)\n",
    "print(\"Lookalike.csv created successfully!\")"
   ]
  }
 ],
 "metadata": {
  "kernelspec": {
   "display_name": "Python 3",
   "language": "python",
   "name": "python3"
  },
  "language_info": {
   "codemirror_mode": {
    "name": "ipython",
    "version": 3
   },
   "file_extension": ".py",
   "mimetype": "text/x-python",
   "name": "python",
   "nbconvert_exporter": "python",
   "pygments_lexer": "ipython3",
   "version": "3.11.6"
  }
 },
 "nbformat": 4,
 "nbformat_minor": 2
}
